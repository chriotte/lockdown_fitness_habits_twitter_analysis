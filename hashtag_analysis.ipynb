{
 "cells": [
  {
   "cell_type": "markdown",
   "metadata": {},
   "source": [
    "# Code from the DataEspresso.com article on fitness habits during lockdown\n",
    "\n",
    "<a href=\"https://dataespresso.com/\">https://dataespresso.com/</a>"
   ]
  },
  {
   "cell_type": "code",
   "execution_count": null,
   "metadata": {},
   "outputs": [],
   "source": [
    "import matplotlib.pyplot as plt\n",
    "from matplotlib.colors import LinearSegmentedColormap\n",
    "import pandas as pd\n",
    "pd.set_option('max_columns', None)\n",
    "pd.set_option('display.max_rows', 500)\n"
   ]
  },
  {
   "cell_type": "code",
   "execution_count": null,
   "metadata": {},
   "outputs": [],
   "source": [
    "def get_tweets_from_hashtag(df,hashtag=\"london\"):\n",
    "    tmp_df = df[df['text'].str.contains(hashtag, na = False)].copy()\n",
    "    return tmp_df\n",
    "\n",
    "def get_num_tweets_per_day(df,hashtag='london'):\n",
    "    tmp_df_tweets = get_tweets_from_hashtag(df=df,hashtag=hashtag)\n",
    "    tmp_df = tmp_df_tweets.groupby(by=tmp_df_tweets['day']).count()\n",
    "    full_df = df.groupby(by=df['day']).count()[[\"text\"]]\n",
    "    full_df.columns = [\"total\"]\n",
    "    tmp_df = pd.concat([tmp_df, full_df], axis=1, join='inner')\n",
    "    tmp_df = tmp_df[['text','total']]\n",
    "    tmp_df[\"hashtag\"] = hashtag\n",
    "    tmp_df.columns=[\"count\",\"total\",\"hashtag\"]\n",
    "    tmp_df[\"percentage\"] = (tmp_df[\"count\"]/tmp_df[\"total\"])*100\n",
    "    return tmp_df\n",
    "\n",
    "def make_multi_property_plots(df,columns=[]):\n",
    "    if len(columns) == 0:\n",
    "        to_plot_df = df.copy()\n",
    "    else:\n",
    "        to_plot_df = df[columns].copy()\n",
    "    # creating a x-list from the strings, before converting the datatype to datetime\n",
    "    # This will be used as x labels later\n",
    "    x = to_plot_df.index\n",
    "    to_plot_df.index = pd.to_datetime(to_plot_df.index)\n",
    "\n",
    "    # defining a list of easy to read colours, source: https://gist.github.com/tsherwen/268a3f2a4b638de299dabe0375970041\n",
    "    CB_color_cycle = ['#377eb8', '#ff7f00', '#4daf4a',\n",
    "                      '#f781bf', '#a65628', '#984ea3',\n",
    "                      '#999999', '#e41a1c', '#dede00']\n",
    "    cmap = LinearSegmentedColormap.from_list('mycmap', CB_color_cycle)\n",
    "\n",
    "\n",
    "    fig = plt.figure(figsize=(20,10))\n",
    "    ax1 = fig.add_subplot(111)\n",
    "    \n",
    "\n",
    "    to_plot_df.plot(ax=ax1,cmap=cmap,x_compat=True)\n",
    "    ax1.set_xticks(x)\n",
    "    ax1.set_xticklabels(x)\n",
    "    plt.xticks(rotation=90)\n",
    "    plt.xlabel('DATE')\n",
    "    plt.ylabel('Number of Tweets')\n",
    "    plt.title('Number of Tweets per day containing key word(s) x')\n",
    "    n = 7 # Showing every n tick, source: https://stackoverflow.com/questions/20337664/cleanest-way-to-hide-every-nth-tick-label-in-matplotlib-colorbar\n",
    "    [l.set_visible(False) for (i,l) in enumerate(ax1.xaxis.get_ticklabels()) if i % n != 0]\n",
    "\n",
    "    plt.rcParams.update({'font.size': 20})\n",
    "    plt.show()\n",
    "    \n",
    "    \n",
    "def get_multiple_hashtag_count(df,key_word_list = []):\n",
    "    df_list = []\n",
    "\n",
    "    i = 0\n",
    "    for word in key_word_list:\n",
    "        tweets_per_day_df = get_num_tweets_per_day(df=df,hashtag=word)\n",
    "        tweets_per_day_df.rename(columns = {'count':word, 'percentage': word+\"_pct\"}, inplace = True)\n",
    "\n",
    "        column_list = [word,word+\"_pct\"]\n",
    "        if i == 0:\n",
    "            column_list = ['total']+column_list # we only need this once, and we want total to be first\n",
    "\n",
    "        df_list.append(tweets_per_day_df[column_list])\n",
    "        i+=1\n",
    "\n",
    "    merged_df = pd.concat(df_list, axis=1)\n",
    "    \n",
    "    return merged_df\n",
    "\n",
    "def make_time_series_plot(df,hashtag=\"lockdown\"):\n",
    "    tweets_per_day_df = get_num_tweets_per_day(df=df,hashtag=\"lockdown\")\n",
    "\n",
    "    x = tweets_per_day_df.index.values\n",
    "    y = tweets_per_day_df[\"count\"].values\n",
    "\n",
    "    fig = plt.figure(figsize=(20,10))\n",
    "    ax1 = fig.add_subplot(111)\n",
    "    ax1.plot(x,y)\n",
    "    ax1.set_xticklabels(x)\n",
    "    plt.xticks(rotation=90)\n",
    "    ax1.legend([hashtag])\n",
    "    plt.xlabel('DATE')\n",
    "    plt.ylabel('Number of Tweets')\n",
    "    plt.title('Number of Tweets containing the word '+hashtag)\n",
    "    n = 7  # Keeps every 7th label\n",
    "    [l.set_visible(False) for (i,l) in enumerate(ax1.xaxis.get_ticklabels()) if i % n != 0]\n",
    "\n",
    "    plt.rcParams.update({'font.size': 20})\n",
    "    plt.show()\n",
    "\n",
    "\n",
    "def line_to_json(text_line):\n",
    "    \n",
    "    tweet_dict = {}\n",
    "    try:\n",
    "        \n",
    "        text = text_line.split(\" \")\n",
    "        day_format = datetime.strptime(text[1], \"%Y-%m-%d\")\n",
    "        tweet_dict['id'] = text[0]\n",
    "        tweet_dict['day'] = text[1]\n",
    "        tweet_dict['timestamp'] = text[1]+\" \" + text[2]\n",
    "        tweet_dict[\"timezone\"] = text[3]\n",
    "        tweet_dict[\"username\"] = text[4]\n",
    "        tweet_dict['text'] = \" \".join(text[5:]).lower()\n",
    "    except Exception as e:\n",
    "        print(e)\n",
    "        print(text_line,\" --> \",text)\n",
    "    return tweet_dict\n"
   ]
  },
  {
   "cell_type": "code",
   "execution_count": null,
   "metadata": {},
   "outputs": [],
   "source": [
    "tweet_path = \"Documents/tweets_london/london_tweets.txt\"\n",
    "with open(tweet_path) as f:\n",
    "    tweet_list = list(f)\n",
    "    \n",
    "    \n",
    "new_tweet_list = []\n",
    "\n",
    "for text in tweet_list :\n",
    "    new_tweet_list.append(line_to_json(text))\n",
    "    \n",
    "df = pd.DataFrame(new_tweet_list)\n",
    "df['timestamp'] = pd.to_datetime(df['timestamp'],errors=\"coerce\")\n",
    "display(df.head())"
   ]
  },
  {
   "cell_type": "code",
   "execution_count": null,
   "metadata": {},
   "outputs": [],
   "source": [
    "print(\"Number of tweets\",len(tweet_list))"
   ]
  },
  {
   "cell_type": "code",
   "execution_count": null,
   "metadata": {},
   "outputs": [],
   "source": [
    "tweets_per_day_df = get_num_tweets_per_day(df=df,hashtag=\"lockdown\")\n",
    "display(tweets_per_day_df)"
   ]
  },
  {
   "cell_type": "code",
   "execution_count": null,
   "metadata": {},
   "outputs": [],
   "source": [
    "make_time_series_plot(df=df,hashtag=\"lockdown\")"
   ]
  },
  {
   "cell_type": "code",
   "execution_count": null,
   "metadata": {},
   "outputs": [],
   "source": [
    "key_word_list = [\"yoga\",\"lockdown\", \"run\", \"gym\", \"homegym\", \"walk\", \"swim\", \"onlinefitness\", \"onlineclasses\", \"workyoga\"]\n",
    "\n",
    "merged_df = get_multiple_hashtag_count(df=df,key_word_list = key_word_list)"
   ]
  },
  {
   "cell_type": "code",
   "execution_count": null,
   "metadata": {},
   "outputs": [],
   "source": [
    "make_multi_property_plots(df=new_merged_df,columns=['lockdown',\n",
    " 'yoga',\n",
    " 'run',\n",
    " 'gym',\n",
    " 'walk',\n",
    " 'swim',\n",
    "'homegym'])"
   ]
  }
 ],
 "metadata": {
  "kernelspec": {
   "display_name": "Python 3",
   "language": "python",
   "name": "python3"
  },
  "language_info": {
   "codemirror_mode": {
    "name": "ipython",
    "version": 3
   },
   "file_extension": ".py",
   "mimetype": "text/x-python",
   "name": "python",
   "nbconvert_exporter": "python",
   "pygments_lexer": "ipython3",
   "version": "3.7.6"
  }
 },
 "nbformat": 4,
 "nbformat_minor": 4
}
